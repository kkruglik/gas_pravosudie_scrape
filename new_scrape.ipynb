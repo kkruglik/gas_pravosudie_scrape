{
 "cells": [
  {
   "cell_type": "code",
   "execution_count": 2,
   "id": "6e1e7f81",
   "metadata": {},
   "outputs": [
    {
     "ename": "ModuleNotFoundError",
     "evalue": "No module named 'selenium'",
     "output_type": "error",
     "traceback": [
      "\u001b[0;31m---------------------------------------------------------------------------\u001b[0m",
      "\u001b[0;31mModuleNotFoundError\u001b[0m                       Traceback (most recent call last)",
      "Input \u001b[0;32mIn [2]\u001b[0m, in \u001b[0;36m<cell line: 1>\u001b[0;34m()\u001b[0m\n\u001b[0;32m----> 1\u001b[0m \u001b[38;5;28;01mfrom\u001b[39;00m \u001b[38;5;21;01mselenium\u001b[39;00m \u001b[38;5;28;01mimport\u001b[39;00m webdriver\n\u001b[1;32m      2\u001b[0m \u001b[38;5;28;01mfrom\u001b[39;00m \u001b[38;5;21;01mwebdriver_manager\u001b[39;00m\u001b[38;5;21;01m.\u001b[39;00m\u001b[38;5;21;01mchrome\u001b[39;00m \u001b[38;5;28;01mimport\u001b[39;00m ChromeDriverManager\n\u001b[1;32m      3\u001b[0m \u001b[38;5;28;01mfrom\u001b[39;00m \u001b[38;5;21;01mselenium\u001b[39;00m\u001b[38;5;21;01m.\u001b[39;00m\u001b[38;5;21;01mwebdriver\u001b[39;00m\u001b[38;5;21;01m.\u001b[39;00m\u001b[38;5;21;01mchrome\u001b[39;00m\u001b[38;5;21;01m.\u001b[39;00m\u001b[38;5;21;01moptions\u001b[39;00m \u001b[38;5;28;01mimport\u001b[39;00m Options\n",
      "\u001b[0;31mModuleNotFoundError\u001b[0m: No module named 'selenium'"
     ]
    }
   ],
   "source": [
    "from selenium import webdriver\n",
    "from webdriver_manager.chrome import ChromeDriverManager\n",
    "from selenium.webdriver.chrome.options import Options\n",
    "from selenium.webdriver.support.ui import WebDriverWait\n",
    "from selenium.webdriver.support import expected_conditions as EC\n",
    "from selenium.webdriver.common.by import By\n",
    "from selenium.common.exceptions import NoSuchElementException, ElementNotInteractableException, TimeoutException, StaleElementReferenceException, ElementClickInterceptedException"
   ]
  },
  {
   "cell_type": "code",
   "execution_count": 82,
   "id": "29f82900",
   "metadata": {},
   "outputs": [
    {
     "name": "stdout",
     "output_type": "stream",
     "text": [
      "\n"
     ]
    },
    {
     "name": "stderr",
     "output_type": "stream",
     "text": [
      "[WDM] - ====== WebDriver manager ======\n",
      "[WDM] - Current google-chrome version is 103.0.5060\n",
      "[WDM] - Get LATEST chromedriver version for 103.0.5060 google-chrome\n",
      "[WDM] - Driver [/home/kirill/.wdm/drivers/chromedriver/linux64/103.0.5060.53/chromedriver] found in cache\n"
     ]
    }
   ],
   "source": [
    "chrome_options = Options()\n",
    "timeout = 60\n",
    "# chrome_options.add_argument('--no-sandbox')\n",
    "# browser = webdriver.Chrome('chromedriver') #, options=chrome_options\n",
    "browser = webdriver.Chrome(ChromeDriverManager().install())"
   ]
  },
  {
   "cell_type": "code",
   "execution_count": 83,
   "id": "0805a773",
   "metadata": {},
   "outputs": [],
   "source": [
    "url = 'https://bsr.sudrf.ru/bigs/portal.html#%7B%22type%22:%22MULTIQUERY%22,%22multiqueryRequest%22:%7B%22queryRequests%22:%5B%7B%22type%22:%22Q%22,%22request%22:%22%7B%5C%22mode%5C%22:%5C%22EXTENDED%5C%22,%5C%22typeRequests%5C%22:%5B%7B%5C%22fieldRequests%5C%22:%5B%7B%5C%22name%5C%22:%5C%22case_user_doc_entry_date%5C%22,%5C%22operator%5C%22:%5C%22B%5C%22,%5C%22query%5C%22:%5C%222021-01-01T00:00:00%5C%22,%5C%22sQuery%5C%22:%5C%222021-12-31T00:00:00%5C%22,%5C%22fieldName%5C%22:%5C%22case_user_doc_entry_date%5C%22%7D,%7B%5C%22name%5C%22:%5C%22case_common_parts_law_article%5C%22,%5C%22operator%5C%22:%5C%22EX%5C%22,%5C%22query%5C%22:%5C%22%D1%81%D1%82.%2020.2%5C%22,%5C%22sQuery%5C%22:null%7D%5D,%5C%22mode%5C%22:%5C%22AND%5C%22,%5C%22name%5C%22:%5C%22common%5C%22,%5C%22typesMode%5C%22:%5C%22AND%5C%22%7D%5D%7D%22,%22operator%22:%22AND%22,%22queryRequestRole%22:%22CATEGORIES%22%7D,%7B%22type%22:%22SQ%22,%22queryId%22:%221f074cdd-f56a-4089-b901-df7a05b3a5c8%22,%22operator%22:%22AND%22%7D%5D%7D,%22sorts%22:%5B%7B%22field%22:%22score%22,%22order%22:%22asc%22%7D%5D,%22simpleSearchFieldsBundle%22:null,%22groups%22:%5B%22%D0%94%D0%B5%D0%BB%D0%B0%20%D0%BE%D0%B1%20%D0%90%D0%9F%22%5D,%22noOrpho%22:false,%22start%22:100%7D'\n",
    "browser.get(url)"
   ]
  },
  {
   "cell_type": "code",
   "execution_count": 3,
   "id": "3006196e",
   "metadata": {},
   "outputs": [],
   "source": [
    "url_20_2 = 'https://bsr.sudrf.ru/bigs/portal.html#%7B%22type%22:%22MULTIQUERY%22,%22multiqueryRequest%22:%7B%22queryRequests%22:%5B%7B%22type%22:%22Q%22,%22request%22:%22%7B%5C%22mode%5C%22:%5C%22EXTENDED%5C%22,%5C%22typeRequests%5C%22:%5B%7B%5C%22fieldRequests%5C%22:%5B%7B%5C%22name%5C%22:%5C%22case_user_doc_entry_date%5C%22,%5C%22operator%5C%22:%5C%22B%5C%22,%5C%22query%5C%22:%5C%222021-01-01T00:00:00%5C%22,%5C%22sQuery%5C%22:%5C%222021-12-31T00:00:00%5C%22,%5C%22fieldName%5C%22:%5C%22case_user_doc_entry_date%5C%22%7D,%7B%5C%22name%5C%22:%5C%22case_common_parts_law_article%5C%22,%5C%22operator%5C%22:%5C%22EX%5C%22,%5C%22query%5C%22:%5C%22%D1%81%D1%82.%2020.2%5C%22,%5C%22sQuery%5C%22:null%7D%5D,%5C%22mode%5C%22:%5C%22AND%5C%22,%5C%22name%5C%22:%5C%22common%5C%22,%5C%22typesMode%5C%22:%5C%22AND%5C%22%7D%5D%7D%22,%22operator%22:%22AND%22,%22queryRequestRole%22:%22CATEGORIES%22%7D,%7B%22type%22:%22SQ%22,%22queryId%22:%221f074cdd-f56a-4089-b901-df7a05b3a5c8%22,%22operator%22:%22AND%22%7D%5D%7D,%22sorts%22:%5B%7B%22field%22:%22score%22,%22order%22:%22asc%22%7D%5D,%22simpleSearchFieldsBundle%22:null,%22groups%22:%5B%22%D0%94%D0%B5%D0%BB%D0%B0%20%D0%BE%D0%B1%20%D0%90%D0%9F%22%5D,%22noOrpho%22:false,%22start%22:20%7D'"
   ]
  },
  {
   "cell_type": "code",
   "execution_count": 29,
   "id": "1e00cab2",
   "metadata": {},
   "outputs": [],
   "source": [
    "browser.get(url)"
   ]
  },
  {
   "cell_type": "code",
   "execution_count": 42,
   "id": "e0646aa2",
   "metadata": {},
   "outputs": [],
   "source": [
    "last_page = browser.find_elements_by_tag_name('td.pageNumTD')[-1].text\n",
    "last_page = int(''.join(i for i in last_page if i != ' '))"
   ]
  },
  {
   "cell_type": "code",
   "execution_count": 159,
   "id": "f0e0ffe6",
   "metadata": {},
   "outputs": [],
   "source": [
    "# switch to table view\n",
    "WebDriverWait(browser, timeout).until(EC.element_to_be_clickable((By.XPATH, '/html/body/div[2]/div[1]/div[2]/div/div/div[2]/div[3]/div[1]/span[2]/a[2]'))).click()\n",
    "time.sleep(1)"
   ]
  },
  {
   "cell_type": "code",
   "execution_count": 84,
   "id": "fddeeacc",
   "metadata": {},
   "outputs": [],
   "source": [
    "table = browser.find_element_by_class_name('resultsList').find_element(By.TAG_NAME, \"tbody\") "
   ]
  },
  {
   "cell_type": "code",
   "execution_count": 33,
   "id": "98b93ba8",
   "metadata": {},
   "outputs": [],
   "source": [
    "case_user_doc_number = [i for i in table.find_elements_by_xpath('//div[@data-field=\"case_user_doc_number\"]')]\n",
    "adm_case_user_name = [i.text for i in table.find_elements_by_xpath('//div[@data-field=\"adm_case_user_name\"]')]\n",
    "article = [i.text for i in table.find_elements_by_xpath('//div[@data-field=\"case_common_parts_law_article\"]')]\n",
    "entry_date = [i.text for i in table.find_elements_by_xpath('//div[@data-field=\"case_user_entry_date\"]')]\n",
    "result_date = [i.text for i in table.find_elements_by_xpath('//div[@data-field=\"case_user_doc_result_date\"]')]\n",
    "subject = [i.text for i in table.find_elements_by_xpath('//div[@data-field=\"case_doc_subject_rf\"]')]\n",
    "court = [i.text for i in table.find_elements_by_xpath('//div[@data-field=\"case_user_doc_court\"]')]\n",
    "user_name = [i.text for i in table.find_elements_by_xpath('//div[@data-field=\"adm_case_user_name\"]')]\n",
    "result = [i.text for i in table.find_elements_by_xpath('//div[@data-field=\"case_user_doc_result\"]')]"
   ]
  },
  {
   "cell_type": "code",
   "execution_count": 86,
   "id": "fa72fff0",
   "metadata": {},
   "outputs": [],
   "source": [
    "if table.find_elements_by_xpath('//div[@data-field=\"case_user_docsff_number\"]'):\n",
    "    print(True)\n",
    "    "
   ]
  },
  {
   "cell_type": "code",
   "execution_count": 87,
   "id": "8f746c31",
   "metadata": {},
   "outputs": [
    {
     "data": {
      "text/plain": [
       "<bound method WebElement.find_elements_by_xpath of <selenium.webdriver.remote.webelement.WebElement (session=\"82b5c3450e43442607f50ee86b7cf8bd\", element=\"9708c83d-1f5e-4481-86fa-ba001ae0883c\")>>"
      ]
     },
     "execution_count": 87,
     "metadata": {},
     "output_type": "execute_result"
    }
   ],
   "source": []
  },
  {
   "cell_type": "code",
   "execution_count": 54,
   "id": "d9fb480a",
   "metadata": {},
   "outputs": [],
   "source": [
    "from collections import defaultdict\n",
    "\n",
    "elem_for_search = [\n",
    "    \"case_user_doc_number\",\n",
    "    \"adm_case_user_name\",\n",
    "    \"case_common_parts_law_article\",\n",
    "    \"case_user_entry_date\",\n",
    "    \"case_doc_subject_rf\",\n",
    "    \"case_user_doc_court\",\n",
    "    \"case_user_doc_result\",\n",
    "    \"case_user_doc_result_date\", \n",
    "    'link'\n",
    "]\n",
    "\n",
    "data = defaultdict(list,{ k:[] for k in elem_for_search })\n",
    "\n",
    "def scrape_elements(data,  table, elem_for_search):\n",
    "    row_count = len(table.find_elements_by_tag_name('tr'))\n",
    "    for el in elem_for_search:\n",
    "        if el == 'link':\n",
    "            data[el].append([i.get_attribute('href') for i in table.find_elements_by_xpath('//a[@class=\"cardAction openCardLink\"]')])\n",
    "            \n",
    "        else:\n",
    "            search = f'//div[@data-field=\"{el}\"]'\n",
    "            if table.find_elements_by_xpath:\n",
    "                data[el].append([i.text for i in table.find_elements_by_xpath(search)])\n",
    "            else:\n",
    "                data[el].append([None for i in range(row_count)])"
   ]
  },
  {
   "cell_type": "code",
   "execution_count": 55,
   "id": "b6aa09be",
   "metadata": {},
   "outputs": [],
   "source": [
    "scrape_elements(data,  table, elem_for_search)"
   ]
  },
  {
   "cell_type": "code",
   "execution_count": 57,
   "id": "b3da691a",
   "metadata": {},
   "outputs": [
    {
     "data": {
      "text/plain": [
       "[['https://bsr.sudrf.ru/bigs/showDocument.html#id=f80c9687111fa7d9b31e06c87e2480a0&shard=%D0%94%D0%B5%D0%BB%D0%B0%20%D0%BE%D0%B1%20%D0%90%D0%9F&from=p&r={%22start%22:100,%22rows%22:10,%22uid%22:%2232347e59-ad9c-43f9-b737-ecf6435cb500%22,%22type%22:%22MULTIQUERY%22,%22multiqueryRequest%22:{%22queryRequests%22:[{%22type%22:%22Q%22,%22request%22:%22{\\\\%22mode\\\\%22:\\\\%22EXTENDED\\\\%22,\\\\%22typeRequests\\\\%22:[{\\\\%22fieldRequests\\\\%22:[{\\\\%22name\\\\%22:\\\\%22case_user_doc_entry_date\\\\%22,\\\\%22operator\\\\%22:\\\\%22B\\\\%22,\\\\%22query\\\\%22:\\\\%222021-01-01T00:00:00\\\\%22,\\\\%22sQuery\\\\%22:\\\\%222021-12-31T00:00:00\\\\%22,\\\\%22fieldName\\\\%22:\\\\%22case_user_doc_entry_date\\\\%22},{\\\\%22name\\\\%22:\\\\%22case_common_parts_law_article\\\\%22,\\\\%22operator\\\\%22:\\\\%22EX\\\\%22,\\\\%22query\\\\%22:\\\\%22%D1%81%D1%82.%2020.2\\\\%22,\\\\%22sQuery\\\\%22:null}],\\\\%22mode\\\\%22:\\\\%22AND\\\\%22,\\\\%22name\\\\%22:\\\\%22common\\\\%22,\\\\%22typesMode\\\\%22:\\\\%22AND\\\\%22}]}%22,%22operator%22:%22AND%22,%22queryRequestRole%22:%22CATEGORIES%22},{%22type%22:%22SQ%22,%22queryId%22:%221f074cdd-f56a-4089-b901-df7a05b3a5c8%22,%22operator%22:%22AND%22}]},%22sorts%22:[{%22field%22:%22score%22,%22order%22:%22asc%22}],%22simpleSearchFieldsBundle%22:null,%22groups%22:[%22%D0%94%D0%B5%D0%BB%D0%B0%20%D0%BE%D0%B1%20%D0%90%D0%9F%22],%22noOrpho%22:false,%22facet%22:{%22field%22:[%22type%22]},%22facetLimit%22:21,%22additionalFields%22:[%22case_user_doc_number%22,%22case_user_document_type%22,%22case_common_parts_law_article%22,%22case_user_entry_date%22,%22case_user_doc_result_date%22,%22case_doc_subject_rf%22,%22case_user_doc_court%22,%22adm_case_user_name%22,%22case_user_doc_result%22],%22hlFragSize%22:1000,%22groupLimit%22:3,%22woBoost%22:false}',\n",
       "  'https://bsr.sudrf.ru/bigs/showDocument.html#id=da88a94ffe07c62b04e7e296ed6d245c&shard=%D0%94%D0%B5%D0%BB%D0%B0%20%D0%BE%D0%B1%20%D0%90%D0%9F&from=p&r={%22start%22:100,%22rows%22:10,%22uid%22:%2232347e59-ad9c-43f9-b737-ecf6435cb500%22,%22type%22:%22MULTIQUERY%22,%22multiqueryRequest%22:{%22queryRequests%22:[{%22type%22:%22Q%22,%22request%22:%22{\\\\%22mode\\\\%22:\\\\%22EXTENDED\\\\%22,\\\\%22typeRequests\\\\%22:[{\\\\%22fieldRequests\\\\%22:[{\\\\%22name\\\\%22:\\\\%22case_user_doc_entry_date\\\\%22,\\\\%22operator\\\\%22:\\\\%22B\\\\%22,\\\\%22query\\\\%22:\\\\%222021-01-01T00:00:00\\\\%22,\\\\%22sQuery\\\\%22:\\\\%222021-12-31T00:00:00\\\\%22,\\\\%22fieldName\\\\%22:\\\\%22case_user_doc_entry_date\\\\%22},{\\\\%22name\\\\%22:\\\\%22case_common_parts_law_article\\\\%22,\\\\%22operator\\\\%22:\\\\%22EX\\\\%22,\\\\%22query\\\\%22:\\\\%22%D1%81%D1%82.%2020.2\\\\%22,\\\\%22sQuery\\\\%22:null}],\\\\%22mode\\\\%22:\\\\%22AND\\\\%22,\\\\%22name\\\\%22:\\\\%22common\\\\%22,\\\\%22typesMode\\\\%22:\\\\%22AND\\\\%22}]}%22,%22operator%22:%22AND%22,%22queryRequestRole%22:%22CATEGORIES%22},{%22type%22:%22SQ%22,%22queryId%22:%221f074cdd-f56a-4089-b901-df7a05b3a5c8%22,%22operator%22:%22AND%22}]},%22sorts%22:[{%22field%22:%22score%22,%22order%22:%22asc%22}],%22simpleSearchFieldsBundle%22:null,%22groups%22:[%22%D0%94%D0%B5%D0%BB%D0%B0%20%D0%BE%D0%B1%20%D0%90%D0%9F%22],%22noOrpho%22:false,%22facet%22:{%22field%22:[%22type%22]},%22facetLimit%22:21,%22additionalFields%22:[%22case_user_doc_number%22,%22case_user_document_type%22,%22case_common_parts_law_article%22,%22case_user_entry_date%22,%22case_user_doc_result_date%22,%22case_doc_subject_rf%22,%22case_user_doc_court%22,%22adm_case_user_name%22,%22case_user_doc_result%22],%22hlFragSize%22:1000,%22groupLimit%22:3,%22woBoost%22:false}',\n",
       "  'https://bsr.sudrf.ru/bigs/showDocument.html#id=33324c081b8be6c9a524e74e3d138ae8&shard=%D0%94%D0%B5%D0%BB%D0%B0%20%D0%BE%D0%B1%20%D0%90%D0%9F&from=p&r={%22start%22:100,%22rows%22:10,%22uid%22:%2232347e59-ad9c-43f9-b737-ecf6435cb500%22,%22type%22:%22MULTIQUERY%22,%22multiqueryRequest%22:{%22queryRequests%22:[{%22type%22:%22Q%22,%22request%22:%22{\\\\%22mode\\\\%22:\\\\%22EXTENDED\\\\%22,\\\\%22typeRequests\\\\%22:[{\\\\%22fieldRequests\\\\%22:[{\\\\%22name\\\\%22:\\\\%22case_user_doc_entry_date\\\\%22,\\\\%22operator\\\\%22:\\\\%22B\\\\%22,\\\\%22query\\\\%22:\\\\%222021-01-01T00:00:00\\\\%22,\\\\%22sQuery\\\\%22:\\\\%222021-12-31T00:00:00\\\\%22,\\\\%22fieldName\\\\%22:\\\\%22case_user_doc_entry_date\\\\%22},{\\\\%22name\\\\%22:\\\\%22case_common_parts_law_article\\\\%22,\\\\%22operator\\\\%22:\\\\%22EX\\\\%22,\\\\%22query\\\\%22:\\\\%22%D1%81%D1%82.%2020.2\\\\%22,\\\\%22sQuery\\\\%22:null}],\\\\%22mode\\\\%22:\\\\%22AND\\\\%22,\\\\%22name\\\\%22:\\\\%22common\\\\%22,\\\\%22typesMode\\\\%22:\\\\%22AND\\\\%22}]}%22,%22operator%22:%22AND%22,%22queryRequestRole%22:%22CATEGORIES%22},{%22type%22:%22SQ%22,%22queryId%22:%221f074cdd-f56a-4089-b901-df7a05b3a5c8%22,%22operator%22:%22AND%22}]},%22sorts%22:[{%22field%22:%22score%22,%22order%22:%22asc%22}],%22simpleSearchFieldsBundle%22:null,%22groups%22:[%22%D0%94%D0%B5%D0%BB%D0%B0%20%D0%BE%D0%B1%20%D0%90%D0%9F%22],%22noOrpho%22:false,%22facet%22:{%22field%22:[%22type%22]},%22facetLimit%22:21,%22additionalFields%22:[%22case_user_doc_number%22,%22case_user_document_type%22,%22case_common_parts_law_article%22,%22case_user_entry_date%22,%22case_user_doc_result_date%22,%22case_doc_subject_rf%22,%22case_user_doc_court%22,%22adm_case_user_name%22,%22case_user_doc_result%22],%22hlFragSize%22:1000,%22groupLimit%22:3,%22woBoost%22:false}',\n",
       "  'https://bsr.sudrf.ru/bigs/showDocument.html#id=6837e7565f9d53d41ea366d7eeabeb5a&shard=%D0%94%D0%B5%D0%BB%D0%B0%20%D0%BE%D0%B1%20%D0%90%D0%9F&from=p&r={%22start%22:100,%22rows%22:10,%22uid%22:%2232347e59-ad9c-43f9-b737-ecf6435cb500%22,%22type%22:%22MULTIQUERY%22,%22multiqueryRequest%22:{%22queryRequests%22:[{%22type%22:%22Q%22,%22request%22:%22{\\\\%22mode\\\\%22:\\\\%22EXTENDED\\\\%22,\\\\%22typeRequests\\\\%22:[{\\\\%22fieldRequests\\\\%22:[{\\\\%22name\\\\%22:\\\\%22case_user_doc_entry_date\\\\%22,\\\\%22operator\\\\%22:\\\\%22B\\\\%22,\\\\%22query\\\\%22:\\\\%222021-01-01T00:00:00\\\\%22,\\\\%22sQuery\\\\%22:\\\\%222021-12-31T00:00:00\\\\%22,\\\\%22fieldName\\\\%22:\\\\%22case_user_doc_entry_date\\\\%22},{\\\\%22name\\\\%22:\\\\%22case_common_parts_law_article\\\\%22,\\\\%22operator\\\\%22:\\\\%22EX\\\\%22,\\\\%22query\\\\%22:\\\\%22%D1%81%D1%82.%2020.2\\\\%22,\\\\%22sQuery\\\\%22:null}],\\\\%22mode\\\\%22:\\\\%22AND\\\\%22,\\\\%22name\\\\%22:\\\\%22common\\\\%22,\\\\%22typesMode\\\\%22:\\\\%22AND\\\\%22}]}%22,%22operator%22:%22AND%22,%22queryRequestRole%22:%22CATEGORIES%22},{%22type%22:%22SQ%22,%22queryId%22:%221f074cdd-f56a-4089-b901-df7a05b3a5c8%22,%22operator%22:%22AND%22}]},%22sorts%22:[{%22field%22:%22score%22,%22order%22:%22asc%22}],%22simpleSearchFieldsBundle%22:null,%22groups%22:[%22%D0%94%D0%B5%D0%BB%D0%B0%20%D0%BE%D0%B1%20%D0%90%D0%9F%22],%22noOrpho%22:false,%22facet%22:{%22field%22:[%22type%22]},%22facetLimit%22:21,%22additionalFields%22:[%22case_user_doc_number%22,%22case_user_document_type%22,%22case_common_parts_law_article%22,%22case_user_entry_date%22,%22case_user_doc_result_date%22,%22case_doc_subject_rf%22,%22case_user_doc_court%22,%22adm_case_user_name%22,%22case_user_doc_result%22],%22hlFragSize%22:1000,%22groupLimit%22:3,%22woBoost%22:false}',\n",
       "  'https://bsr.sudrf.ru/bigs/showDocument.html#id=3fe865928d5193a27b424a3de1c2978f&shard=%D0%94%D0%B5%D0%BB%D0%B0%20%D0%BE%D0%B1%20%D0%90%D0%9F&from=p&r={%22start%22:100,%22rows%22:10,%22uid%22:%2232347e59-ad9c-43f9-b737-ecf6435cb500%22,%22type%22:%22MULTIQUERY%22,%22multiqueryRequest%22:{%22queryRequests%22:[{%22type%22:%22Q%22,%22request%22:%22{\\\\%22mode\\\\%22:\\\\%22EXTENDED\\\\%22,\\\\%22typeRequests\\\\%22:[{\\\\%22fieldRequests\\\\%22:[{\\\\%22name\\\\%22:\\\\%22case_user_doc_entry_date\\\\%22,\\\\%22operator\\\\%22:\\\\%22B\\\\%22,\\\\%22query\\\\%22:\\\\%222021-01-01T00:00:00\\\\%22,\\\\%22sQuery\\\\%22:\\\\%222021-12-31T00:00:00\\\\%22,\\\\%22fieldName\\\\%22:\\\\%22case_user_doc_entry_date\\\\%22},{\\\\%22name\\\\%22:\\\\%22case_common_parts_law_article\\\\%22,\\\\%22operator\\\\%22:\\\\%22EX\\\\%22,\\\\%22query\\\\%22:\\\\%22%D1%81%D1%82.%2020.2\\\\%22,\\\\%22sQuery\\\\%22:null}],\\\\%22mode\\\\%22:\\\\%22AND\\\\%22,\\\\%22name\\\\%22:\\\\%22common\\\\%22,\\\\%22typesMode\\\\%22:\\\\%22AND\\\\%22}]}%22,%22operator%22:%22AND%22,%22queryRequestRole%22:%22CATEGORIES%22},{%22type%22:%22SQ%22,%22queryId%22:%221f074cdd-f56a-4089-b901-df7a05b3a5c8%22,%22operator%22:%22AND%22}]},%22sorts%22:[{%22field%22:%22score%22,%22order%22:%22asc%22}],%22simpleSearchFieldsBundle%22:null,%22groups%22:[%22%D0%94%D0%B5%D0%BB%D0%B0%20%D0%BE%D0%B1%20%D0%90%D0%9F%22],%22noOrpho%22:false,%22facet%22:{%22field%22:[%22type%22]},%22facetLimit%22:21,%22additionalFields%22:[%22case_user_doc_number%22,%22case_user_document_type%22,%22case_common_parts_law_article%22,%22case_user_entry_date%22,%22case_user_doc_result_date%22,%22case_doc_subject_rf%22,%22case_user_doc_court%22,%22adm_case_user_name%22,%22case_user_doc_result%22],%22hlFragSize%22:1000,%22groupLimit%22:3,%22woBoost%22:false}',\n",
       "  'https://bsr.sudrf.ru/bigs/showDocument.html#id=c8760985299eee5d5202ad5e9df1e8a1&shard=%D0%94%D0%B5%D0%BB%D0%B0%20%D0%BE%D0%B1%20%D0%90%D0%9F&from=p&r={%22start%22:100,%22rows%22:10,%22uid%22:%2232347e59-ad9c-43f9-b737-ecf6435cb500%22,%22type%22:%22MULTIQUERY%22,%22multiqueryRequest%22:{%22queryRequests%22:[{%22type%22:%22Q%22,%22request%22:%22{\\\\%22mode\\\\%22:\\\\%22EXTENDED\\\\%22,\\\\%22typeRequests\\\\%22:[{\\\\%22fieldRequests\\\\%22:[{\\\\%22name\\\\%22:\\\\%22case_user_doc_entry_date\\\\%22,\\\\%22operator\\\\%22:\\\\%22B\\\\%22,\\\\%22query\\\\%22:\\\\%222021-01-01T00:00:00\\\\%22,\\\\%22sQuery\\\\%22:\\\\%222021-12-31T00:00:00\\\\%22,\\\\%22fieldName\\\\%22:\\\\%22case_user_doc_entry_date\\\\%22},{\\\\%22name\\\\%22:\\\\%22case_common_parts_law_article\\\\%22,\\\\%22operator\\\\%22:\\\\%22EX\\\\%22,\\\\%22query\\\\%22:\\\\%22%D1%81%D1%82.%2020.2\\\\%22,\\\\%22sQuery\\\\%22:null}],\\\\%22mode\\\\%22:\\\\%22AND\\\\%22,\\\\%22name\\\\%22:\\\\%22common\\\\%22,\\\\%22typesMode\\\\%22:\\\\%22AND\\\\%22}]}%22,%22operator%22:%22AND%22,%22queryRequestRole%22:%22CATEGORIES%22},{%22type%22:%22SQ%22,%22queryId%22:%221f074cdd-f56a-4089-b901-df7a05b3a5c8%22,%22operator%22:%22AND%22}]},%22sorts%22:[{%22field%22:%22score%22,%22order%22:%22asc%22}],%22simpleSearchFieldsBundle%22:null,%22groups%22:[%22%D0%94%D0%B5%D0%BB%D0%B0%20%D0%BE%D0%B1%20%D0%90%D0%9F%22],%22noOrpho%22:false,%22facet%22:{%22field%22:[%22type%22]},%22facetLimit%22:21,%22additionalFields%22:[%22case_user_doc_number%22,%22case_user_document_type%22,%22case_common_parts_law_article%22,%22case_user_entry_date%22,%22case_user_doc_result_date%22,%22case_doc_subject_rf%22,%22case_user_doc_court%22,%22adm_case_user_name%22,%22case_user_doc_result%22],%22hlFragSize%22:1000,%22groupLimit%22:3,%22woBoost%22:false}',\n",
       "  'https://bsr.sudrf.ru/bigs/showDocument.html#id=2261d752c4c2ce24d3ca5e873044dc77&shard=%D0%94%D0%B5%D0%BB%D0%B0%20%D0%BE%D0%B1%20%D0%90%D0%9F&from=p&r={%22start%22:100,%22rows%22:10,%22uid%22:%2232347e59-ad9c-43f9-b737-ecf6435cb500%22,%22type%22:%22MULTIQUERY%22,%22multiqueryRequest%22:{%22queryRequests%22:[{%22type%22:%22Q%22,%22request%22:%22{\\\\%22mode\\\\%22:\\\\%22EXTENDED\\\\%22,\\\\%22typeRequests\\\\%22:[{\\\\%22fieldRequests\\\\%22:[{\\\\%22name\\\\%22:\\\\%22case_user_doc_entry_date\\\\%22,\\\\%22operator\\\\%22:\\\\%22B\\\\%22,\\\\%22query\\\\%22:\\\\%222021-01-01T00:00:00\\\\%22,\\\\%22sQuery\\\\%22:\\\\%222021-12-31T00:00:00\\\\%22,\\\\%22fieldName\\\\%22:\\\\%22case_user_doc_entry_date\\\\%22},{\\\\%22name\\\\%22:\\\\%22case_common_parts_law_article\\\\%22,\\\\%22operator\\\\%22:\\\\%22EX\\\\%22,\\\\%22query\\\\%22:\\\\%22%D1%81%D1%82.%2020.2\\\\%22,\\\\%22sQuery\\\\%22:null}],\\\\%22mode\\\\%22:\\\\%22AND\\\\%22,\\\\%22name\\\\%22:\\\\%22common\\\\%22,\\\\%22typesMode\\\\%22:\\\\%22AND\\\\%22}]}%22,%22operator%22:%22AND%22,%22queryRequestRole%22:%22CATEGORIES%22},{%22type%22:%22SQ%22,%22queryId%22:%221f074cdd-f56a-4089-b901-df7a05b3a5c8%22,%22operator%22:%22AND%22}]},%22sorts%22:[{%22field%22:%22score%22,%22order%22:%22asc%22}],%22simpleSearchFieldsBundle%22:null,%22groups%22:[%22%D0%94%D0%B5%D0%BB%D0%B0%20%D0%BE%D0%B1%20%D0%90%D0%9F%22],%22noOrpho%22:false,%22facet%22:{%22field%22:[%22type%22]},%22facetLimit%22:21,%22additionalFields%22:[%22case_user_doc_number%22,%22case_user_document_type%22,%22case_common_parts_law_article%22,%22case_user_entry_date%22,%22case_user_doc_result_date%22,%22case_doc_subject_rf%22,%22case_user_doc_court%22,%22adm_case_user_name%22,%22case_user_doc_result%22],%22hlFragSize%22:1000,%22groupLimit%22:3,%22woBoost%22:false}',\n",
       "  'https://bsr.sudrf.ru/bigs/showDocument.html#id=72cc23d03e4cea19d250b83167f89f54&shard=%D0%94%D0%B5%D0%BB%D0%B0%20%D0%BE%D0%B1%20%D0%90%D0%9F&from=p&r={%22start%22:100,%22rows%22:10,%22uid%22:%2232347e59-ad9c-43f9-b737-ecf6435cb500%22,%22type%22:%22MULTIQUERY%22,%22multiqueryRequest%22:{%22queryRequests%22:[{%22type%22:%22Q%22,%22request%22:%22{\\\\%22mode\\\\%22:\\\\%22EXTENDED\\\\%22,\\\\%22typeRequests\\\\%22:[{\\\\%22fieldRequests\\\\%22:[{\\\\%22name\\\\%22:\\\\%22case_user_doc_entry_date\\\\%22,\\\\%22operator\\\\%22:\\\\%22B\\\\%22,\\\\%22query\\\\%22:\\\\%222021-01-01T00:00:00\\\\%22,\\\\%22sQuery\\\\%22:\\\\%222021-12-31T00:00:00\\\\%22,\\\\%22fieldName\\\\%22:\\\\%22case_user_doc_entry_date\\\\%22},{\\\\%22name\\\\%22:\\\\%22case_common_parts_law_article\\\\%22,\\\\%22operator\\\\%22:\\\\%22EX\\\\%22,\\\\%22query\\\\%22:\\\\%22%D1%81%D1%82.%2020.2\\\\%22,\\\\%22sQuery\\\\%22:null}],\\\\%22mode\\\\%22:\\\\%22AND\\\\%22,\\\\%22name\\\\%22:\\\\%22common\\\\%22,\\\\%22typesMode\\\\%22:\\\\%22AND\\\\%22}]}%22,%22operator%22:%22AND%22,%22queryRequestRole%22:%22CATEGORIES%22},{%22type%22:%22SQ%22,%22queryId%22:%221f074cdd-f56a-4089-b901-df7a05b3a5c8%22,%22operator%22:%22AND%22}]},%22sorts%22:[{%22field%22:%22score%22,%22order%22:%22asc%22}],%22simpleSearchFieldsBundle%22:null,%22groups%22:[%22%D0%94%D0%B5%D0%BB%D0%B0%20%D0%BE%D0%B1%20%D0%90%D0%9F%22],%22noOrpho%22:false,%22facet%22:{%22field%22:[%22type%22]},%22facetLimit%22:21,%22additionalFields%22:[%22case_user_doc_number%22,%22case_user_document_type%22,%22case_common_parts_law_article%22,%22case_user_entry_date%22,%22case_user_doc_result_date%22,%22case_doc_subject_rf%22,%22case_user_doc_court%22,%22adm_case_user_name%22,%22case_user_doc_result%22],%22hlFragSize%22:1000,%22groupLimit%22:3,%22woBoost%22:false}',\n",
       "  'https://bsr.sudrf.ru/bigs/showDocument.html#id=e74f68fcf80618bfd578634b76d2509b&shard=%D0%94%D0%B5%D0%BB%D0%B0%20%D0%BE%D0%B1%20%D0%90%D0%9F&from=p&r={%22start%22:100,%22rows%22:10,%22uid%22:%2232347e59-ad9c-43f9-b737-ecf6435cb500%22,%22type%22:%22MULTIQUERY%22,%22multiqueryRequest%22:{%22queryRequests%22:[{%22type%22:%22Q%22,%22request%22:%22{\\\\%22mode\\\\%22:\\\\%22EXTENDED\\\\%22,\\\\%22typeRequests\\\\%22:[{\\\\%22fieldRequests\\\\%22:[{\\\\%22name\\\\%22:\\\\%22case_user_doc_entry_date\\\\%22,\\\\%22operator\\\\%22:\\\\%22B\\\\%22,\\\\%22query\\\\%22:\\\\%222021-01-01T00:00:00\\\\%22,\\\\%22sQuery\\\\%22:\\\\%222021-12-31T00:00:00\\\\%22,\\\\%22fieldName\\\\%22:\\\\%22case_user_doc_entry_date\\\\%22},{\\\\%22name\\\\%22:\\\\%22case_common_parts_law_article\\\\%22,\\\\%22operator\\\\%22:\\\\%22EX\\\\%22,\\\\%22query\\\\%22:\\\\%22%D1%81%D1%82.%2020.2\\\\%22,\\\\%22sQuery\\\\%22:null}],\\\\%22mode\\\\%22:\\\\%22AND\\\\%22,\\\\%22name\\\\%22:\\\\%22common\\\\%22,\\\\%22typesMode\\\\%22:\\\\%22AND\\\\%22}]}%22,%22operator%22:%22AND%22,%22queryRequestRole%22:%22CATEGORIES%22},{%22type%22:%22SQ%22,%22queryId%22:%221f074cdd-f56a-4089-b901-df7a05b3a5c8%22,%22operator%22:%22AND%22}]},%22sorts%22:[{%22field%22:%22score%22,%22order%22:%22asc%22}],%22simpleSearchFieldsBundle%22:null,%22groups%22:[%22%D0%94%D0%B5%D0%BB%D0%B0%20%D0%BE%D0%B1%20%D0%90%D0%9F%22],%22noOrpho%22:false,%22facet%22:{%22field%22:[%22type%22]},%22facetLimit%22:21,%22additionalFields%22:[%22case_user_doc_number%22,%22case_user_document_type%22,%22case_common_parts_law_article%22,%22case_user_entry_date%22,%22case_user_doc_result_date%22,%22case_doc_subject_rf%22,%22case_user_doc_court%22,%22adm_case_user_name%22,%22case_user_doc_result%22],%22hlFragSize%22:1000,%22groupLimit%22:3,%22woBoost%22:false}',\n",
       "  'https://bsr.sudrf.ru/bigs/showDocument.html#id=a213a897ea199e8952aafca9eafca983&shard=%D0%94%D0%B5%D0%BB%D0%B0%20%D0%BE%D0%B1%20%D0%90%D0%9F&from=p&r={%22start%22:100,%22rows%22:10,%22uid%22:%2232347e59-ad9c-43f9-b737-ecf6435cb500%22,%22type%22:%22MULTIQUERY%22,%22multiqueryRequest%22:{%22queryRequests%22:[{%22type%22:%22Q%22,%22request%22:%22{\\\\%22mode\\\\%22:\\\\%22EXTENDED\\\\%22,\\\\%22typeRequests\\\\%22:[{\\\\%22fieldRequests\\\\%22:[{\\\\%22name\\\\%22:\\\\%22case_user_doc_entry_date\\\\%22,\\\\%22operator\\\\%22:\\\\%22B\\\\%22,\\\\%22query\\\\%22:\\\\%222021-01-01T00:00:00\\\\%22,\\\\%22sQuery\\\\%22:\\\\%222021-12-31T00:00:00\\\\%22,\\\\%22fieldName\\\\%22:\\\\%22case_user_doc_entry_date\\\\%22},{\\\\%22name\\\\%22:\\\\%22case_common_parts_law_article\\\\%22,\\\\%22operator\\\\%22:\\\\%22EX\\\\%22,\\\\%22query\\\\%22:\\\\%22%D1%81%D1%82.%2020.2\\\\%22,\\\\%22sQuery\\\\%22:null}],\\\\%22mode\\\\%22:\\\\%22AND\\\\%22,\\\\%22name\\\\%22:\\\\%22common\\\\%22,\\\\%22typesMode\\\\%22:\\\\%22AND\\\\%22}]}%22,%22operator%22:%22AND%22,%22queryRequestRole%22:%22CATEGORIES%22},{%22type%22:%22SQ%22,%22queryId%22:%221f074cdd-f56a-4089-b901-df7a05b3a5c8%22,%22operator%22:%22AND%22}]},%22sorts%22:[{%22field%22:%22score%22,%22order%22:%22asc%22}],%22simpleSearchFieldsBundle%22:null,%22groups%22:[%22%D0%94%D0%B5%D0%BB%D0%B0%20%D0%BE%D0%B1%20%D0%90%D0%9F%22],%22noOrpho%22:false,%22facet%22:{%22field%22:[%22type%22]},%22facetLimit%22:21,%22additionalFields%22:[%22case_user_doc_number%22,%22case_user_document_type%22,%22case_common_parts_law_article%22,%22case_user_entry_date%22,%22case_user_doc_result_date%22,%22case_doc_subject_rf%22,%22case_user_doc_court%22,%22adm_case_user_name%22,%22case_user_doc_result%22],%22hlFragSize%22:1000,%22groupLimit%22:3,%22woBoost%22:false}']]"
      ]
     },
     "execution_count": 57,
     "metadata": {},
     "output_type": "execute_result"
    }
   ],
   "source": [
    "data['link']"
   ]
  },
  {
   "cell_type": "code",
   "execution_count": null,
   "id": "9e76443e",
   "metadata": {},
   "outputs": [],
   "source": []
  },
  {
   "cell_type": "code",
   "execution_count": null,
   "id": "b3bf8e2a",
   "metadata": {},
   "outputs": [],
   "source": []
  },
  {
   "cell_type": "markdown",
   "id": "c59f9699",
   "metadata": {},
   "source": [
    "**Статьи для скрейпинга**"
   ]
  },
  {
   "cell_type": "code",
   "execution_count": 9,
   "id": "865042e2",
   "metadata": {},
   "outputs": [],
   "source": [
    "article_19_3_2021 = 'https://bsr.sudrf.ru/bigs/portal.html#%7B%22type%22:%22MULTIQUERY%22,%22multiqueryRequest%22:%7B%22queryRequests%22:%5B%7B%22type%22:%22Q%22,%22request%22:%22%7B%5C%22mode%5C%22:%5C%22EXTENDED%5C%22,%5C%22typeRequests%5C%22:%5B%7B%5C%22fieldRequests%5C%22:%5B%7B%5C%22name%5C%22:%5C%22case_user_doc_entry_date%5C%22,%5C%22operator%5C%22:%5C%22B%5C%22,%5C%22query%5C%22:%5C%222021-01-01T00:00:00%5C%22,%5C%22sQuery%5C%22:%5C%222021-12-31T00:00:00%5C%22,%5C%22fieldName%5C%22:%5C%22case_user_doc_entry_date%5C%22%7D,%7B%5C%22name%5C%22:%5C%22case_common_parts_law_article%5C%22,%5C%22operator%5C%22:%5C%22EX%5C%22,%5C%22query%5C%22:%5C%2219.3%5C%22,%5C%22fieldName%5C%22:%5C%22case_common_parts_law_article_cat%5C%22%7D,%7B%5C%22name%5C%22:%5C%22case_doc_instance%5C%22,%5C%22operator%5C%22:%5C%22EX%5C%22,%5C%22query%5C%22:%5C%22%D0%9F%D0%B5%D1%80%D0%B2%D0%B0%D1%8F%20%D0%B8%D0%BD%D1%81%D1%82%D0%B0%D0%BD%D1%86%D0%B8%D1%8F%5C%22,%5C%22sQuery%5C%22:null%7D,%7B%5C%22name%5C%22:%5C%22case_common_parts_law_article%5C%22,%5C%22operator%5C%22:%5C%22EX%5C%22,%5C%22query%5C%22:%5C%22%D1%81%D1%82.%2019.3%5C%22,%5C%22sQuery%5C%22:null%7D%5D,%5C%22mode%5C%22:%5C%22AND%5C%22,%5C%22name%5C%22:%5C%22common%5C%22,%5C%22typesMode%5C%22:%5C%22AND%5C%22%7D%5D%7D%22,%22operator%22:%22AND%22,%22queryRequestRole%22:%22CATEGORIES%22%7D,%7B%22type%22:%22SQ%22,%22queryId%22:%221f074cdd-f56a-4089-b901-df7a05b3a5c8%22,%22operator%22:%22AND%22%7D%5D%7D,%22sorts%22:%5B%7B%22field%22:%22score%22,%22order%22:%22desc%22%7D%5D,%22simpleSearchFieldsBundle%22:null,%22groups%22:%5B%22%D0%94%D0%B5%D0%BB%D0%B0%20%D0%BE%D0%B1%20%D0%90%D0%9F%22%5D,%22noOrpho%22:false%7D'"
   ]
  },
  {
   "cell_type": "code",
   "execution_count": 19,
   "id": "c9b4f4b9",
   "metadata": {},
   "outputs": [],
   "source": [
    "article_214_2021 = 'https://bsr.sudrf.ru/bigs/portal.html#%7B%22type%22:%22MULTIQUERY%22,%22multiqueryRequest%22:%7B%22queryRequests%22:%5B%7B%22type%22:%22Q%22,%22request%22:%22%7B%5C%22mode%5C%22:%5C%22EXTENDED%5C%22,%5C%22typeRequests%5C%22:%5B%7B%5C%22fieldRequests%5C%22:%5B%7B%5C%22name%5C%22:%5C%22u_case_user_article%5C%22,%5C%22operator%5C%22:%5C%22EX%5C%22,%5C%22query%5C%22:%5C%22%D0%A1%D1%82%D0%B0%D1%82%D1%8C%D1%8F%20214%5C%22,%5C%22sQuery%5C%22:null%7D%5D,%5C%22mode%5C%22:%5C%22AND%5C%22,%5C%22name%5C%22:%5C%22%D0%A3%D0%B3%D0%BE%D0%BB%D0%BE%D0%B2%D0%BD%D1%8B%D0%B5%20%D0%B4%D0%B5%D0%BB%D0%B0%5C%22,%5C%22typesMode%5C%22:%5C%22AND%5C%22%7D,%7B%5C%22fieldRequests%5C%22:%5B%7B%5C%22name%5C%22:%5C%22case_user_doc_entry_date%5C%22,%5C%22operator%5C%22:%5C%22B%5C%22,%5C%22query%5C%22:%5C%222021-01-01T00:00:00%5C%22,%5C%22sQuery%5C%22:%5C%222021-12-31T00:00:00%5C%22,%5C%22fieldName%5C%22:%5C%22case_user_doc_entry_date%5C%22%7D%5D,%5C%22mode%5C%22:%5C%22AND%5C%22,%5C%22name%5C%22:%5C%22common%5C%22,%5C%22typesMode%5C%22:%5C%22AND%5C%22%7D%5D%7D%22,%22operator%22:%22AND%22,%22queryRequestRole%22:%22CATEGORIES%22%7D,%7B%22type%22:%22SQ%22,%22queryId%22:%227f9e8ff8-4bc8-46aa-bcbd-f2b3ed5f159f%22,%22operator%22:%22AND%22%7D%5D%7D,%22sorts%22:%5B%7B%22field%22:%22score%22,%22order%22:%22desc%22%7D%5D,%22simpleSearchFieldsBundle%22:null,%22groups%22:%5B%22%D0%A3%D0%B3%D0%BE%D0%BB%D0%BE%D0%B2%D0%BD%D1%8B%D0%B5%20%D0%B4%D0%B5%D0%BB%D0%B0%22%5D,%22noOrpho%22:false%7D'"
   ]
  },
  {
   "cell_type": "code",
   "execution_count": 20,
   "id": "55302023",
   "metadata": {},
   "outputs": [],
   "source": [
    "article_214_2022 = 'https://bsr.sudrf.ru/bigs/portal.html#%7B%22type%22:%22MULTIQUERY%22,%22multiqueryRequest%22:%7B%22queryRequests%22:%5B%7B%22type%22:%22Q%22,%22request%22:%22%7B%5C%22mode%5C%22:%5C%22EXTENDED%5C%22,%5C%22typeRequests%5C%22:%5B%7B%5C%22fieldRequests%5C%22:%5B%7B%5C%22name%5C%22:%5C%22u_case_user_article%5C%22,%5C%22operator%5C%22:%5C%22EX%5C%22,%5C%22query%5C%22:%5C%22%D0%A1%D1%82%D0%B0%D1%82%D1%8C%D1%8F%20214%5C%22,%5C%22sQuery%5C%22:null%7D%5D,%5C%22mode%5C%22:%5C%22AND%5C%22,%5C%22name%5C%22:%5C%22%D0%A3%D0%B3%D0%BE%D0%BB%D0%BE%D0%B2%D0%BD%D1%8B%D0%B5%20%D0%B4%D0%B5%D0%BB%D0%B0%5C%22,%5C%22typesMode%5C%22:%5C%22AND%5C%22%7D,%7B%5C%22fieldRequests%5C%22:%5B%7B%5C%22name%5C%22:%5C%22case_user_doc_entry_date%5C%22,%5C%22operator%5C%22:%5C%22B%5C%22,%5C%22query%5C%22:%5C%222022-01-01T00:00:00%5C%22,%5C%22fieldName%5C%22:%5C%22case_user_doc_entry_date%5C%22%7D%5D,%5C%22mode%5C%22:%5C%22AND%5C%22,%5C%22name%5C%22:%5C%22common%5C%22,%5C%22typesMode%5C%22:%5C%22AND%5C%22%7D%5D%7D%22,%22operator%22:%22AND%22,%22queryRequestRole%22:%22CATEGORIES%22%7D,%7B%22type%22:%22SQ%22,%22queryId%22:%227f9e8ff8-4bc8-46aa-bcbd-f2b3ed5f159f%22,%22operator%22:%22AND%22%7D%5D%7D,%22sorts%22:%5B%7B%22field%22:%22score%22,%22order%22:%22desc%22%7D%5D,%22simpleSearchFieldsBundle%22:null,%22groups%22:%5B%22%D0%A3%D0%B3%D0%BE%D0%BB%D0%BE%D0%B2%D0%BD%D1%8B%D0%B5%20%D0%B4%D0%B5%D0%BB%D0%B0%22%5D,%22noOrpho%22:false,%22start%22:0%7D'"
   ]
  },
  {
   "cell_type": "code",
   "execution_count": 9,
   "id": "1eaa7080",
   "metadata": {},
   "outputs": [],
   "source": [
    "article_20_3_3_2022 = 'https://bsr.sudrf.ru/bigs/portal.html#%7B%22type%22:%22MULTIQUERY%22,%22multiqueryRequest%22:%7B%22queryRequests%22:%5B%7B%22type%22:%22Q%22,%22request%22:%22%7B%5C%22mode%5C%22:%5C%22EXTENDED%5C%22,%5C%22typeRequests%5C%22:%5B%7B%5C%22fieldRequests%5C%22:%5B%7B%5C%22name%5C%22:%5C%22case_common_parts_law_article%5C%22,%5C%22operator%5C%22:%5C%22EX%5C%22,%5C%22query%5C%22:%5C%22%D1%81%D1%82.%2020.3.3%5C%22,%5C%22sQuery%5C%22:null%7D%5D,%5C%22mode%5C%22:%5C%22AND%5C%22,%5C%22name%5C%22:%5C%22common%5C%22,%5C%22typesMode%5C%22:%5C%22AND%5C%22%7D%5D%7D%22,%22operator%22:%22AND%22,%22queryRequestRole%22:%22CATEGORIES%22%7D,%7B%22type%22:%22SQ%22,%22queryId%22:%221f074cdd-f56a-4089-b901-df7a05b3a5c8%22,%22operator%22:%22AND%22%7D%5D%7D,%22sorts%22:%5B%7B%22field%22:%22score%22,%22order%22:%22desc%22%7D%5D,%22simpleSearchFieldsBundle%22:null,%22groups%22:%5B%22%D0%94%D0%B5%D0%BB%D0%B0%20%D0%BE%D0%B1%20%D0%90%D0%9F%22%5D,%22noOrpho%22:false,%22start%22:30%7D'"
   ]
  },
  {
   "cell_type": "code",
   "execution_count": 11,
   "id": "02a9ce51",
   "metadata": {},
   "outputs": [],
   "source": [
    "article_207 = 'https://bsr.sudrf.ru/bigs/portal.html#%7B%22rows%22:10,%22uid%22:%22237dafd6-4889-4658-8cdc-8c298d264393%22,%22type%22:%22MULTIQUERY%22,%22multiqueryRequest%22:%7B%22queryRequests%22:%5B%7B%22type%22:%22Q%22,%22request%22:%22%7B%5C%22mode%5C%22:%5C%22EXTENDED%5C%22,%5C%22typeRequests%5C%22:%5B%7B%5C%22fieldRequests%5C%22:%5B%7B%5C%22name%5C%22:%5C%22u_case_user_article%5C%22,%5C%22operator%5C%22:%5C%22EX%5C%22,%5C%22query%5C%22:%5C%22%D0%A1%D1%82%D0%B0%D1%82%D1%8C%D1%8F%20%20207%5C%22,%5C%22sQuery%5C%22:null%7D,%7B%5C%22name%5C%22:%5C%22u_case_user_article%5C%22,%5C%22operator%5C%22:%5C%22EX%5C%22,%5C%22query%5C%22:%5C%22%D0%A1%D1%82%D0%B0%D1%82%D1%8C%D1%8F%20%20207.1%5C%22,%5C%22sQuery%5C%22:null%7D,%7B%5C%22name%5C%22:%5C%22u_case_user_article%5C%22,%5C%22operator%5C%22:%5C%22EX%5C%22,%5C%22query%5C%22:%5C%22%D0%A1%D1%82%D0%B0%D1%82%D1%8C%D1%8F%20%20207.2%5C%22,%5C%22sQuery%5C%22:null%7D%5D,%5C%22mode%5C%22:%5C%22AND%5C%22,%5C%22name%5C%22:%5C%22%D0%A3%D0%B3%D0%BE%D0%BB%D0%BE%D0%B2%D0%BD%D1%8B%D0%B5%20%D0%B4%D0%B5%D0%BB%D0%B0%5C%22,%5C%22typesMode%5C%22:%5C%22AND%5C%22%7D%5D%7D%22,%22operator%22:%22AND%22,%22queryRequestRole%22:%22CATEGORIES%22%7D,%7B%22type%22:%22SQ%22,%22queryId%22:%227f9e8ff8-4bc8-46aa-bcbd-f2b3ed5f159f%22,%22operator%22:%22AND%22%7D%5D%7D,%22sorts%22:%5B%7B%22field%22:%22score%22,%22order%22:%22desc%22%7D%5D,%22simpleSearchFieldsBundle%22:null,%22groups%22:%5B%22%D0%A3%D0%B3%D0%BE%D0%BB%D0%BE%D0%B2%D0%BD%D1%8B%D0%B5%20%D0%B4%D0%B5%D0%BB%D0%B0%22%5D,%22noOrpho%22:false,%22facet%22:%7B%22field%22:%5B%22type%22%5D%7D,%22facetLimit%22:21,%22additionalFields%22:%5B%22case_user_doc_number%22,%22case_user_document_type%22,%22case_common_parts_law_article%22,%22case_user_entry_date%22,%22case_user_doc_result_date%22,%22case_doc_subject_rf%22,%22case_user_doc_court%22,%22adm_case_user_name%22,%22case_user_doc_result%22%5D,%22hlFragSize%22:1000,%22groupLimit%22:3,%22woBoost%22:false,%22start%22:10%7D'"
   ]
  },
  {
   "cell_type": "markdown",
   "id": "57f491bc",
   "metadata": {},
   "source": [
    "### full script"
   ]
  },
  {
   "cell_type": "code",
   "execution_count": 23,
   "id": "8d1e1cc6",
   "metadata": {},
   "outputs": [],
   "source": [
    "def to_pickle(data, file_name):\n",
    "    with open(file_name, \"wb\") as fp:\n",
    "        pickle.dump(data, fp)"
   ]
  },
  {
   "cell_type": "code",
   "execution_count": 1,
   "id": "251b63e7",
   "metadata": {},
   "outputs": [],
   "source": [
    "def scrape_elements(data,  table, elem_for_search):\n",
    "    row_count = len(table.find_elements_by_tag_name('tr'))\n",
    "    for el in elem_for_search:\n",
    "        if el == 'link':\n",
    "            data[el].append([i.get_attribute('href') for i in table.find_elements_by_xpath('//a[@class=\"cardAction openCardLink\"]')])\n",
    "            \n",
    "        else:\n",
    "            search = f'//div[@data-field=\"{el}\"]'\n",
    "            if table.find_elements_by_xpath(search):\n",
    "                data[el].append([i.text for i in table.find_elements_by_xpath(search)])\n",
    "            else:\n",
    "                data[el].append([None for i in range(row_count)])"
   ]
  },
  {
   "cell_type": "code",
   "execution_count": null,
   "id": "e61aa633",
   "metadata": {},
   "outputs": [],
   "source": [
    "def scrape_sent(first_page, last_page, browser, url, elem_for_search, data, timeout, file_name):\n",
    "    failed_pages = []\n",
    "    for page in tqdm(range(first_page, last_page, 10)): #11630\n",
    "        if page > 645070:\n",
    "            break\n",
    "        page_url = url + f',%22start%22:{page}%7D'\n",
    "        browser.get(page_url)\n",
    "        # time.sleep(1)\n",
    "        \n",
    "        if page == first_page:\n",
    "            try:\n",
    "                WebDriverWait(browser, timeout).until(\n",
    "                    lambda browser: browser.find_elements(By.XPATH, \"//div[@class='bgs-result']\"))\n",
    "                # time.sleep(1)\n",
    "\n",
    "                WebDriverWait(browser, timeout).until(\n",
    "                    EC.element_to_be_clickable((By.XPATH, \"//a[@title='Таблицей']\"))).click() \n",
    "            except Exception as e:\n",
    "                print(e)\n",
    "                failed_pages.append(page)\n",
    "\n",
    "        # saving the progress every 100 pages\n",
    "        if page % 100 == 0:\n",
    "            to_pickle(data, file_name)\n",
    "\n",
    "        try:\n",
    "            WebDriverWait(browser, timeout).until(\n",
    "                    lambda browser: browser.find_elements(By.XPATH, '//div[@data-field=\"case_user_doc_number\"]'))\n",
    "            # time.sleep(2)\n",
    "            table = browser.find_element_by_class_name('resultsList').find_element(By.TAG_NAME, \"tbody\") \n",
    "            scrape_elements(data, table, elem_for_search)\n",
    "            \n",
    "        except Exception as e:\n",
    "            print(e, page)\n",
    "            failed_pages.append(page)\n",
    "\n",
    "    to_pickle(data, file_name)\n",
    "    data.clear()\n",
    "    return failed_pages"
   ]
  },
  {
   "cell_type": "code",
   "execution_count": 58,
   "id": "ac8854ca",
   "metadata": {
    "scrolled": false
   },
   "outputs": [
    {
     "name": "stdout",
     "output_type": "stream",
     "text": [
      "\n"
     ]
    },
    {
     "name": "stderr",
     "output_type": "stream",
     "text": [
      "[WDM] - ====== WebDriver manager ======\n",
      "[WDM] - Current google-chrome version is 103.0.5060\n",
      "[WDM] - Get LATEST chromedriver version for 103.0.5060 google-chrome\n",
      "[WDM] - Driver [/home/kirill/.wdm/drivers/chromedriver/linux64/103.0.5060.53/chromedriver] found in cache\n"
     ]
    },
    {
     "name": "stdout",
     "output_type": "stream",
     "text": [
      "page 0\n",
      "page loaded\n",
      "Progress saved\n",
      "page 10\n",
      "Progress saved\n",
      "page 20\n",
      "Progress saved\n",
      "page 30\n",
      "Progress saved\n",
      "page 40\n",
      "Progress saved\n",
      "page 50\n",
      "Progress saved\n",
      "page 60\n",
      "Progress saved\n",
      "page 70\n",
      "Progress saved\n",
      "page 80\n",
      "Progress saved\n",
      "page 90\n",
      "Progress saved\n",
      "page 100\n",
      "Progress saved\n"
     ]
    }
   ],
   "source": [
    "failed_pages = []\n",
    "\n",
    "elem_for_search = [\n",
    "    \"case_user_doc_number\",\n",
    "    \"adm_case_user_name\",\n",
    "    \"case_common_parts_law_article\",\n",
    "    \"case_user_entry_date\",\n",
    "    \"case_doc_subject_rf\",\n",
    "    \"case_user_doc_court\",\n",
    "    \"case_user_doc_result\",\n",
    "    \"case_user_doc_result_date\", \n",
    "    'link'\n",
    "]\n",
    "timeout = 100\n",
    "\n",
    "for p in range(0, 86330, 1000):\n",
    "    first_page = p\n",
    "    last_page = p + 1010\n",
    "    file_name = 'data_19_3_' + str(last_page)\n",
    "    data = defaultdict(list,{ k:[] for k in elem_for_search })\n",
    "    url = 'https://bsr.sudrf.ru/bigs/portal.html#%7B%22type%22:%22MULTIQUERY%22,%22multiqueryRequest%22:%7B%22queryRequests%22:%5B%7B%22type%22:%22Q%22,%22request%22:%22%7B%5C%22mode%5C%22:%5C%22EXTENDED%5C%22,%5C%22typeRequests%5C%22:%5B%7B%5C%22fieldRequests%5C%22:%5B%7B%5C%22name%5C%22:%5C%22case_user_doc_entry_date%5C%22,%5C%22operator%5C%22:%5C%22B%5C%22,%5C%22query%5C%22:%5C%222022-01-01T00:00:00%5C%22,%5C%22sQuery%5C%22:%5C%222022-07-01T00:00:00%5C%22,%5C%22fieldName%5C%22:%5C%22case_user_doc_entry_date%5C%22%7D,%7B%5C%22name%5C%22:%5C%22case_doc_instance%5C%22,%5C%22operator%5C%22:%5C%22EX%5C%22,%5C%22query%5C%22:%5C%22%D0%9F%D0%B5%D1%80%D0%B2%D0%B0%D1%8F%20%D0%B8%D0%BD%D1%81%D1%82%D0%B0%D0%BD%D1%86%D0%B8%D1%8F%5C%22,%5C%22sQuery%5C%22:null%7D,%7B%5C%22name%5C%22:%5C%22case_common_parts_law_article%5C%22,%5C%22operator%5C%22:%5C%22EX%5C%22,%5C%22query%5C%22:%5C%2219.3%5C%22,%5C%22sQuery%5C%22:null%7D,%7B%5C%22name%5C%22:%5C%22case_common_parts_law_article%5C%22,%5C%22operator%5C%22:%5C%22EX%5C%22,%5C%22query%5C%22:%5C%22%D1%81%D1%82.%2019.3%5C%22,%5C%22sQuery%5C%22:null%7D%5D,%5C%22mode%5C%22:%5C%22AND%5C%22,%5C%22name%5C%22:%5C%22common%5C%22,%5C%22typesMode%5C%22:%5C%22AND%5C%22%7D%5D%7D%22,%22operator%22:%22AND%22,%22queryRequestRole%22:%22CATEGORIES%22%7D,%7B%22type%22:%22SQ%22,%22queryId%22:%221f074cdd-f56a-4089-b901-df7a05b3a5c8%22,%22operator%22:%22AND%22%7D%5D%7D,%22sorts%22:%5B%7B%22field%22:%22score%22,%22order%22:%22desc%22%7D%5D,%22simpleSearchFieldsBundle%22:null,%22groups%22:%5B%5D,%22noOrpho%22:false'\n",
    "    browser = webdriver.Chrome(ChromeDriverManager().install(), ) # options=chrome_options\n",
    "    failed_pages.append(scrape_sent(first_page, last_page, browser, url, elem_for_search, data, timeout, file_name))\n",
    "    browser.close()\n",
    "    to_pickle(failed_pages, 'failed_pages_19_3')"
   ]
  },
  {
   "cell_type": "code",
   "execution_count": null,
   "id": "2f3c235e",
   "metadata": {},
   "outputs": [],
   "source": []
  },
  {
   "cell_type": "markdown",
   "id": "e379de08",
   "metadata": {},
   "source": [
    "**data processing**"
   ]
  },
  {
   "cell_type": "code",
   "execution_count": 1,
   "id": "5ff42166",
   "metadata": {},
   "outputs": [],
   "source": [
    "import time\n",
    "import re\n",
    "import pandas as pd\n",
    "import pickle\n",
    "import os"
   ]
  },
  {
   "cell_type": "code",
   "execution_count": null,
   "id": "3c305346",
   "metadata": {},
   "outputs": [],
   "source": [
    "with open(\"data_214_1010\", \"rb\") as fp:\n",
    "    data_1 = pickle.load(fp)"
   ]
  },
  {
   "cell_type": "code",
   "execution_count": 26,
   "id": "8dcbd4b7",
   "metadata": {},
   "outputs": [
    {
     "name": "stdout",
     "output_type": "stream",
     "text": [
      "17 case_user_doc_number\n",
      "17 adm_case_user_name\n",
      "17 case_common_parts_law_article\n",
      "17 case_user_entry_date\n",
      "17 case_doc_subject_rf\n",
      "17 case_user_doc_court\n",
      "17 case_user_doc_result\n",
      "17 case_user_doc_result_date\n",
      "17 link\n"
     ]
    }
   ],
   "source": [
    "for k, i in data_1.items():\n",
    "    print(len(i), k)"
   ]
  },
  {
   "cell_type": "code",
   "execution_count": 2,
   "id": "c38b8cb1",
   "metadata": {},
   "outputs": [],
   "source": [
    "df = None\n",
    "for f in os.listdir('data/20_3_3_2022'):\n",
    "    path = 'data/20_3_3_2022/' + f\n",
    "    with open(path, 'rb') as fp:\n",
    "        data = pickle.load(fp)\n",
    "        \n",
    "    for k in data.keys():\n",
    "        data[k] = [c for i in data[k] for c in i]\n",
    "        \n",
    "    if df is None:\n",
    "        df = pd.DataFrame(data)\n",
    "    else:\n",
    "        df = pd.concat([pd.DataFrame(data), df])"
   ]
  },
  {
   "cell_type": "code",
   "execution_count": 3,
   "id": "2bc0d020",
   "metadata": {},
   "outputs": [],
   "source": [
    "df['year'] = 2022"
   ]
  },
  {
   "cell_type": "code",
   "execution_count": 4,
   "id": "9e87a6f4",
   "metadata": {},
   "outputs": [],
   "source": [
    "df = df.reset_index()"
   ]
  },
  {
   "cell_type": "code",
   "execution_count": 5,
   "id": "71c3724a",
   "metadata": {},
   "outputs": [],
   "source": [
    "df.drop('index', axis=1, inplace=True)"
   ]
  },
  {
   "cell_type": "code",
   "execution_count": 7,
   "id": "1b2e40b8",
   "metadata": {},
   "outputs": [],
   "source": [
    "df.to_csv('20_3_3_2022_year_2022.csv')"
   ]
  },
  {
   "cell_type": "code",
   "execution_count": 10,
   "id": "3648f573",
   "metadata": {},
   "outputs": [
    {
     "data": {
      "text/html": [
       "<div>\n",
       "<style scoped>\n",
       "    .dataframe tbody tr th:only-of-type {\n",
       "        vertical-align: middle;\n",
       "    }\n",
       "\n",
       "    .dataframe tbody tr th {\n",
       "        vertical-align: top;\n",
       "    }\n",
       "\n",
       "    .dataframe thead th {\n",
       "        text-align: right;\n",
       "    }\n",
       "</style>\n",
       "<table border=\"1\" class=\"dataframe\">\n",
       "  <thead>\n",
       "    <tr style=\"text-align: right;\">\n",
       "      <th></th>\n",
       "      <th>case_user_doc_number</th>\n",
       "      <th>adm_case_user_name</th>\n",
       "      <th>case_common_parts_law_article</th>\n",
       "      <th>case_user_entry_date</th>\n",
       "      <th>case_doc_subject_rf</th>\n",
       "      <th>case_user_doc_court</th>\n",
       "      <th>case_user_doc_result</th>\n",
       "      <th>case_user_doc_result_date</th>\n",
       "      <th>link</th>\n",
       "      <th>year</th>\n",
       "    </tr>\n",
       "  </thead>\n",
       "  <tbody>\n",
       "    <tr>\n",
       "      <th>49</th>\n",
       "      <td>5-310/2022</td>\n",
       "      <td>Билялова Эфтаде Якубовна</td>\n",
       "      <td>ст.20.3.3 ч.1 КоАП РФ</td>\n",
       "      <td>05.04.2022</td>\n",
       "      <td>Республика Крым</td>\n",
       "      <td>Красногвардейский районный суд</td>\n",
       "      <td>Вынесено определение о возвращении протокола о...</td>\n",
       "      <td></td>\n",
       "      <td>https://bsr.sudrf.ru/bigs/showDocument.html#id...</td>\n",
       "      <td>2022</td>\n",
       "    </tr>\n",
       "    <tr>\n",
       "      <th>586</th>\n",
       "      <td>5-680/2022</td>\n",
       "      <td>Горина Галина Михайловна</td>\n",
       "      <td>ст.20.3.3 ч.2 КоАП РФ</td>\n",
       "      <td>30.03.2022</td>\n",
       "      <td>Челябинская область</td>\n",
       "      <td>Калининский районный суд г. Челябинска</td>\n",
       "      <td>Вынесено постановление о назначении администра...</td>\n",
       "      <td></td>\n",
       "      <td>https://bsr.sudrf.ru/bigs/showDocument.html#id...</td>\n",
       "      <td>2022</td>\n",
       "    </tr>\n",
       "    <tr>\n",
       "      <th>2369</th>\n",
       "      <td>5-461/2022</td>\n",
       "      <td>Ушнурцев Андрей Александрович</td>\n",
       "      <td>ст.20.3.3 ч.1 КоАП РФ</td>\n",
       "      <td>28.06.2022</td>\n",
       "      <td>Пермский край</td>\n",
       "      <td>Березниковский городской суд</td>\n",
       "      <td>Вынесено постановление о назначении администра...</td>\n",
       "      <td></td>\n",
       "      <td>https://bsr.sudrf.ru/bigs/showDocument.html#id...</td>\n",
       "      <td>2022</td>\n",
       "    </tr>\n",
       "    <tr>\n",
       "      <th>553</th>\n",
       "      <td>5-508/2022</td>\n",
       "      <td>Серебренников Александр Владимирович</td>\n",
       "      <td>ст.20.3.3 ч.1 КоАП РФ</td>\n",
       "      <td>11.03.2022</td>\n",
       "      <td>Калининградская область</td>\n",
       "      <td>Центральный районный суд г. Калининграда</td>\n",
       "      <td>Вынесено постановление о назначении администра...</td>\n",
       "      <td></td>\n",
       "      <td>https://bsr.sudrf.ru/bigs/showDocument.html#id...</td>\n",
       "      <td>2022</td>\n",
       "    </tr>\n",
       "    <tr>\n",
       "      <th>2013</th>\n",
       "      <td>5-833/2022</td>\n",
       "      <td>Богомолов Борис Борисович</td>\n",
       "      <td>ст.20.3.3 ч.1 КоАП РФ</td>\n",
       "      <td>18.04.2022</td>\n",
       "      <td>Орловская область</td>\n",
       "      <td>Советский районный суд г. Орла</td>\n",
       "      <td>Вынесено постановление о назначении администра...</td>\n",
       "      <td>22.04.2022</td>\n",
       "      <td>https://bsr.sudrf.ru/bigs/showDocument.html#id...</td>\n",
       "      <td>2022</td>\n",
       "    </tr>\n",
       "    <tr>\n",
       "      <th>80</th>\n",
       "      <td>5-707/2022</td>\n",
       "      <td>Щенников Максим Владиславович</td>\n",
       "      <td>ст.20.3.3 ч.1 КоАП РФ</td>\n",
       "      <td>04.04.2022</td>\n",
       "      <td>Ярославская область</td>\n",
       "      <td>Дзержинский районный суд г. Ярославля</td>\n",
       "      <td>Вынесено постановление о назначении администра...</td>\n",
       "      <td>04.04.2022</td>\n",
       "      <td>https://bsr.sudrf.ru/bigs/showDocument.html#id...</td>\n",
       "      <td>2022</td>\n",
       "    </tr>\n",
       "    <tr>\n",
       "      <th>121</th>\n",
       "      <td>5-2203/2022</td>\n",
       "      <td>Мурашкин Алексей Викторович</td>\n",
       "      <td>ст.20.3.3 ч.1 КоАП РФ</td>\n",
       "      <td>26.05.2022</td>\n",
       "      <td>Омская область</td>\n",
       "      <td>Ленинский районный суд г. Омска</td>\n",
       "      <td>Вынесено постановление о назначении администра...</td>\n",
       "      <td></td>\n",
       "      <td>https://bsr.sudrf.ru/bigs/showDocument.html#id...</td>\n",
       "      <td>2022</td>\n",
       "    </tr>\n",
       "    <tr>\n",
       "      <th>751</th>\n",
       "      <td>5-959/2022</td>\n",
       "      <td>Шихалиев Гурбан Сардар Оглы</td>\n",
       "      <td>ст.20.3.3 ч.1 КоАП РФ</td>\n",
       "      <td>04.05.2022</td>\n",
       "      <td>Пермский край</td>\n",
       "      <td>Дзержинский районный суд г. Перми</td>\n",
       "      <td>Вынесено постановление о назначении администра...</td>\n",
       "      <td>24.05.2022</td>\n",
       "      <td>https://bsr.sudrf.ru/bigs/showDocument.html#id...</td>\n",
       "      <td>2022</td>\n",
       "    </tr>\n",
       "    <tr>\n",
       "      <th>205</th>\n",
       "      <td>5-743/2022</td>\n",
       "      <td>Фокина Елена Ильинична</td>\n",
       "      <td>ст.20.3.3 ч.1 КоАП РФ</td>\n",
       "      <td>20.06.2022</td>\n",
       "      <td>Архангельская область</td>\n",
       "      <td>Октябрьский районный суд г. Архангельска</td>\n",
       "      <td>Вынесено постановление о назначении администра...</td>\n",
       "      <td></td>\n",
       "      <td>https://bsr.sudrf.ru/bigs/showDocument.html#id...</td>\n",
       "      <td>2022</td>\n",
       "    </tr>\n",
       "    <tr>\n",
       "      <th>1806</th>\n",
       "      <td>5-469/2022</td>\n",
       "      <td>Тихонов М.Г., Буракшаев В.И., Лебедев З.С.</td>\n",
       "      <td>ст.20.3.3 ч.1 КоАП РФ, Не заполнено</td>\n",
       "      <td>09.03.2022</td>\n",
       "      <td>Самарская область</td>\n",
       "      <td>Ленинский районный суд г. Самары</td>\n",
       "      <td>Вынесено постановление о назначении администра...</td>\n",
       "      <td>28.03.2022</td>\n",
       "      <td>https://bsr.sudrf.ru/bigs/showDocument.html#id...</td>\n",
       "      <td>2022</td>\n",
       "    </tr>\n",
       "  </tbody>\n",
       "</table>\n",
       "</div>"
      ],
      "text/plain": [
       "     case_user_doc_number                          adm_case_user_name  \\\n",
       "49             5-310/2022                    Билялова Эфтаде Якубовна   \n",
       "586            5-680/2022                    Горина Галина Михайловна   \n",
       "2369           5-461/2022               Ушнурцев Андрей Александрович   \n",
       "553            5-508/2022        Серебренников Александр Владимирович   \n",
       "2013           5-833/2022                   Богомолов Борис Борисович   \n",
       "80             5-707/2022               Щенников Максим Владиславович   \n",
       "121           5-2203/2022                 Мурашкин Алексей Викторович   \n",
       "751            5-959/2022                 Шихалиев Гурбан Сардар Оглы   \n",
       "205            5-743/2022                      Фокина Елена Ильинична   \n",
       "1806           5-469/2022  Тихонов М.Г., Буракшаев В.И., Лебедев З.С.   \n",
       "\n",
       "            case_common_parts_law_article case_user_entry_date  \\\n",
       "49                  ст.20.3.3 ч.1 КоАП РФ           05.04.2022   \n",
       "586                 ст.20.3.3 ч.2 КоАП РФ           30.03.2022   \n",
       "2369                ст.20.3.3 ч.1 КоАП РФ           28.06.2022   \n",
       "553                 ст.20.3.3 ч.1 КоАП РФ           11.03.2022   \n",
       "2013                ст.20.3.3 ч.1 КоАП РФ           18.04.2022   \n",
       "80                  ст.20.3.3 ч.1 КоАП РФ           04.04.2022   \n",
       "121                 ст.20.3.3 ч.1 КоАП РФ           26.05.2022   \n",
       "751                 ст.20.3.3 ч.1 КоАП РФ           04.05.2022   \n",
       "205                 ст.20.3.3 ч.1 КоАП РФ           20.06.2022   \n",
       "1806  ст.20.3.3 ч.1 КоАП РФ, Не заполнено           09.03.2022   \n",
       "\n",
       "          case_doc_subject_rf                       case_user_doc_court  \\\n",
       "49            Республика Крым            Красногвардейский районный суд   \n",
       "586       Челябинская область    Калининский районный суд г. Челябинска   \n",
       "2369            Пермский край              Березниковский городской суд   \n",
       "553   Калининградская область  Центральный районный суд г. Калининграда   \n",
       "2013        Орловская область            Советский районный суд г. Орла   \n",
       "80        Ярославская область     Дзержинский районный суд г. Ярославля   \n",
       "121            Омская область           Ленинский районный суд г. Омска   \n",
       "751             Пермский край         Дзержинский районный суд г. Перми   \n",
       "205     Архангельская область  Октябрьский районный суд г. Архангельска   \n",
       "1806        Самарская область          Ленинский районный суд г. Самары   \n",
       "\n",
       "                                   case_user_doc_result  \\\n",
       "49    Вынесено определение о возвращении протокола о...   \n",
       "586   Вынесено постановление о назначении администра...   \n",
       "2369  Вынесено постановление о назначении администра...   \n",
       "553   Вынесено постановление о назначении администра...   \n",
       "2013  Вынесено постановление о назначении администра...   \n",
       "80    Вынесено постановление о назначении администра...   \n",
       "121   Вынесено постановление о назначении администра...   \n",
       "751   Вынесено постановление о назначении администра...   \n",
       "205   Вынесено постановление о назначении администра...   \n",
       "1806  Вынесено постановление о назначении администра...   \n",
       "\n",
       "     case_user_doc_result_date  \\\n",
       "49                               \n",
       "586                              \n",
       "2369                             \n",
       "553                              \n",
       "2013                22.04.2022   \n",
       "80                  04.04.2022   \n",
       "121                              \n",
       "751                 24.05.2022   \n",
       "205                              \n",
       "1806                28.03.2022   \n",
       "\n",
       "                                                   link  year  \n",
       "49    https://bsr.sudrf.ru/bigs/showDocument.html#id...  2022  \n",
       "586   https://bsr.sudrf.ru/bigs/showDocument.html#id...  2022  \n",
       "2369  https://bsr.sudrf.ru/bigs/showDocument.html#id...  2022  \n",
       "553   https://bsr.sudrf.ru/bigs/showDocument.html#id...  2022  \n",
       "2013  https://bsr.sudrf.ru/bigs/showDocument.html#id...  2022  \n",
       "80    https://bsr.sudrf.ru/bigs/showDocument.html#id...  2022  \n",
       "121   https://bsr.sudrf.ru/bigs/showDocument.html#id...  2022  \n",
       "751   https://bsr.sudrf.ru/bigs/showDocument.html#id...  2022  \n",
       "205   https://bsr.sudrf.ru/bigs/showDocument.html#id...  2022  \n",
       "1806  https://bsr.sudrf.ru/bigs/showDocument.html#id...  2022  "
      ]
     },
     "execution_count": 10,
     "metadata": {},
     "output_type": "execute_result"
    }
   ],
   "source": [
    "df.sample(10)"
   ]
  },
  {
   "cell_type": "markdown",
   "id": "de9c0271",
   "metadata": {},
   "source": [
    "- collect 20.3.3\n",
    "- collect 207 for 2021\n",
    "- collect 207 for 2022\n",
    "- collect 19.3 for 2022\n",
    "- collect 20.2 for 2022"
   ]
  },
  {
   "cell_type": "code",
   "execution_count": null,
   "id": "846af3db",
   "metadata": {},
   "outputs": [],
   "source": []
  }
 ],
 "metadata": {
  "kernelspec": {
   "display_name": "Python 3 (ipykernel)",
   "language": "python",
   "name": "python3"
  },
  "language_info": {
   "codemirror_mode": {
    "name": "ipython",
    "version": 3
   },
   "file_extension": ".py",
   "mimetype": "text/x-python",
   "name": "python",
   "nbconvert_exporter": "python",
   "pygments_lexer": "ipython3",
   "version": "3.9.12"
  }
 },
 "nbformat": 4,
 "nbformat_minor": 5
}
